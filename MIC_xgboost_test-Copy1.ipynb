{
 "cells": [
  {
   "cell_type": "code",
   "execution_count": 1,
   "metadata": {},
   "outputs": [],
   "source": [
    "import numpy as np\n",
    "import pandas as pd"
   ]
  },
  {
   "cell_type": "code",
   "execution_count": 60,
   "metadata": {},
   "outputs": [],
   "source": [
    "file = pd.read_csv(\"Pin_Lv_6_8_10kmer_MIC.csv\", index_col = 0)\n",
    "# file = pd.read_csv(\"/download/lzm/data_for_MIC_20201207/raw_data_for_MIC_117_20201207/_1/finsh.txt\", sep=' ', index_col = 0)"
   ]
  },
  {
   "cell_type": "code",
   "execution_count": 3,
   "metadata": {},
   "outputs": [],
   "source": [
    "# file = file.transform(lambda x: np.where(x.isnull(), 0, 1))"
   ]
  },
  {
   "cell_type": "code",
   "execution_count": 67,
   "metadata": {},
   "outputs": [],
   "source": [
    "# file.rename(columns = {'5':'MIC'}, inplace = True)"
   ]
  },
  {
   "cell_type": "code",
   "execution_count": 41,
   "metadata": {},
   "outputs": [],
   "source": [
    "# file = file.set_index('1')"
   ]
  },
  {
   "cell_type": "code",
   "execution_count": 55,
   "metadata": {},
   "outputs": [
    {
     "data": {
      "text/html": [
       "<div>\n",
       "<style scoped>\n",
       "    .dataframe tbody tr th:only-of-type {\n",
       "        vertical-align: middle;\n",
       "    }\n",
       "\n",
       "    .dataframe tbody tr th {\n",
       "        vertical-align: top;\n",
       "    }\n",
       "\n",
       "    .dataframe thead th {\n",
       "        text-align: right;\n",
       "    }\n",
       "</style>\n",
       "<table border=\"1\" class=\"dataframe\">\n",
       "  <thead>\n",
       "    <tr style=\"text-align: right;\">\n",
       "      <th></th>\n",
       "      <th>5</th>\n",
       "    </tr>\n",
       "    <tr>\n",
       "      <th>1</th>\n",
       "      <th></th>\n",
       "    </tr>\n",
       "  </thead>\n",
       "  <tbody>\n",
       "    <tr>\n",
       "      <th>SAMN07525418</th>\n",
       "      <td>0.0625</td>\n",
       "    </tr>\n",
       "    <tr>\n",
       "      <th>SAMN07525443</th>\n",
       "      <td>0.0625</td>\n",
       "    </tr>\n",
       "    <tr>\n",
       "      <th>SAMN07525381</th>\n",
       "      <td>0.0625</td>\n",
       "    </tr>\n",
       "  </tbody>\n",
       "</table>\n",
       "</div>"
      ],
      "text/plain": [
       "                   5\n",
       "1                   \n",
       "SAMN07525418  0.0625\n",
       "SAMN07525443  0.0625\n",
       "SAMN07525381  0.0625"
      ]
     },
     "execution_count": 55,
     "metadata": {},
     "output_type": "execute_result"
    }
   ],
   "source": [
    "import numpy as np\n",
    "import pandas as pd\n",
    "\n",
    "MIC = pd.read_csv(\"MIC.csv\", header = None)\n",
    "x = MIC[[1,5]]\n",
    "x.set_index([1], inplace = True)\n",
    "x.head(3)"
   ]
  },
  {
   "cell_type": "code",
   "execution_count": 68,
   "metadata": {},
   "outputs": [],
   "source": [
    "file = pd.merge(file, x, left_index=True, right_index=True)"
   ]
  },
  {
   "cell_type": "code",
   "execution_count": 77,
   "metadata": {},
   "outputs": [],
   "source": [
    "file.drop(columns=[5], inplace=True)"
   ]
  },
  {
   "cell_type": "code",
   "execution_count": 78,
   "metadata": {},
   "outputs": [
    {
     "data": {
      "text/html": [
       "<div>\n",
       "<style scoped>\n",
       "    .dataframe tbody tr th:only-of-type {\n",
       "        vertical-align: middle;\n",
       "    }\n",
       "\n",
       "    .dataframe tbody tr th {\n",
       "        vertical-align: top;\n",
       "    }\n",
       "\n",
       "    .dataframe thead th {\n",
       "        text-align: right;\n",
       "    }\n",
       "</style>\n",
       "<table border=\"1\" class=\"dataframe\">\n",
       "  <thead>\n",
       "    <tr style=\"text-align: right;\">\n",
       "      <th></th>\n",
       "      <th>AAAAAA</th>\n",
       "      <th>AAAAAC</th>\n",
       "      <th>AAAAAG</th>\n",
       "      <th>AAAAAT</th>\n",
       "      <th>AAAACA</th>\n",
       "      <th>AAAACC</th>\n",
       "      <th>AAAACG</th>\n",
       "      <th>AAAACT</th>\n",
       "      <th>AAAAGA</th>\n",
       "      <th>AAAAGC</th>\n",
       "      <th>...</th>\n",
       "      <th>TTTTACAAAA</th>\n",
       "      <th>TTTTAGAAAA</th>\n",
       "      <th>TTTTATAAAA</th>\n",
       "      <th>TTTTCAAAAA</th>\n",
       "      <th>TTTTCCAAAA</th>\n",
       "      <th>TTTTCGAAAA</th>\n",
       "      <th>TTTTGAAAAA</th>\n",
       "      <th>TTTTGCAAAA</th>\n",
       "      <th>TTTTTAAAAA</th>\n",
       "      <th>MIC</th>\n",
       "    </tr>\n",
       "  </thead>\n",
       "  <tbody>\n",
       "    <tr>\n",
       "      <th>SRR5385429</th>\n",
       "      <td>0.001121</td>\n",
       "      <td>0.000856</td>\n",
       "      <td>0.000896</td>\n",
       "      <td>0.000882</td>\n",
       "      <td>0.000568</td>\n",
       "      <td>0.000846</td>\n",
       "      <td>0.000789</td>\n",
       "      <td>0.000411</td>\n",
       "      <td>0.000502</td>\n",
       "      <td>0.000810</td>\n",
       "      <td>...</td>\n",
       "      <td>0.000002</td>\n",
       "      <td>0.000002</td>\n",
       "      <td>0.000002</td>\n",
       "      <td>0.000006</td>\n",
       "      <td>0.000001</td>\n",
       "      <td>0.000001</td>\n",
       "      <td>0.000006</td>\n",
       "      <td>0.000002</td>\n",
       "      <td>0.000003</td>\n",
       "      <td>1.0</td>\n",
       "    </tr>\n",
       "    <tr>\n",
       "      <th>SRR5385434</th>\n",
       "      <td>0.001135</td>\n",
       "      <td>0.000868</td>\n",
       "      <td>0.000899</td>\n",
       "      <td>0.000884</td>\n",
       "      <td>0.000570</td>\n",
       "      <td>0.000851</td>\n",
       "      <td>0.000791</td>\n",
       "      <td>0.000406</td>\n",
       "      <td>0.000503</td>\n",
       "      <td>0.000821</td>\n",
       "      <td>...</td>\n",
       "      <td>0.000003</td>\n",
       "      <td>0.000002</td>\n",
       "      <td>0.000002</td>\n",
       "      <td>0.000004</td>\n",
       "      <td>0.000001</td>\n",
       "      <td>0.000001</td>\n",
       "      <td>0.000005</td>\n",
       "      <td>0.000002</td>\n",
       "      <td>0.000002</td>\n",
       "      <td>8.0</td>\n",
       "    </tr>\n",
       "    <tr>\n",
       "      <th>SRR5385437</th>\n",
       "      <td>0.001127</td>\n",
       "      <td>0.000863</td>\n",
       "      <td>0.000891</td>\n",
       "      <td>0.000881</td>\n",
       "      <td>0.000568</td>\n",
       "      <td>0.000847</td>\n",
       "      <td>0.000783</td>\n",
       "      <td>0.000406</td>\n",
       "      <td>0.000499</td>\n",
       "      <td>0.000818</td>\n",
       "      <td>...</td>\n",
       "      <td>0.000002</td>\n",
       "      <td>0.000002</td>\n",
       "      <td>0.000002</td>\n",
       "      <td>0.000005</td>\n",
       "      <td>0.000001</td>\n",
       "      <td>0.000001</td>\n",
       "      <td>0.000005</td>\n",
       "      <td>0.000002</td>\n",
       "      <td>0.000002</td>\n",
       "      <td>8.0</td>\n",
       "    </tr>\n",
       "  </tbody>\n",
       "</table>\n",
       "<p>3 rows × 559495 columns</p>\n",
       "</div>"
      ],
      "text/plain": [
       "              AAAAAA    AAAAAC    AAAAAG    AAAAAT    AAAACA    AAAACC  \\\n",
       "SRR5385429  0.001121  0.000856  0.000896  0.000882  0.000568  0.000846   \n",
       "SRR5385434  0.001135  0.000868  0.000899  0.000884  0.000570  0.000851   \n",
       "SRR5385437  0.001127  0.000863  0.000891  0.000881  0.000568  0.000847   \n",
       "\n",
       "              AAAACG    AAAACT    AAAAGA    AAAAGC  ...  TTTTACAAAA  \\\n",
       "SRR5385429  0.000789  0.000411  0.000502  0.000810  ...    0.000002   \n",
       "SRR5385434  0.000791  0.000406  0.000503  0.000821  ...    0.000003   \n",
       "SRR5385437  0.000783  0.000406  0.000499  0.000818  ...    0.000002   \n",
       "\n",
       "            TTTTAGAAAA  TTTTATAAAA  TTTTCAAAAA  TTTTCCAAAA  TTTTCGAAAA  \\\n",
       "SRR5385429    0.000002    0.000002    0.000006    0.000001    0.000001   \n",
       "SRR5385434    0.000002    0.000002    0.000004    0.000001    0.000001   \n",
       "SRR5385437    0.000002    0.000002    0.000005    0.000001    0.000001   \n",
       "\n",
       "            TTTTGAAAAA  TTTTGCAAAA  TTTTTAAAAA  MIC  \n",
       "SRR5385429    0.000006    0.000002    0.000003  1.0  \n",
       "SRR5385434    0.000005    0.000002    0.000002  8.0  \n",
       "SRR5385437    0.000005    0.000002    0.000002  8.0  \n",
       "\n",
       "[3 rows x 559495 columns]"
      ]
     },
     "execution_count": 78,
     "metadata": {},
     "output_type": "execute_result"
    }
   ],
   "source": [
    "file.head(3)"
   ]
  },
  {
   "cell_type": "code",
   "execution_count": null,
   "metadata": {},
   "outputs": [],
   "source": []
  },
  {
   "cell_type": "code",
   "execution_count": null,
   "metadata": {},
   "outputs": [],
   "source": []
  },
  {
   "cell_type": "code",
   "execution_count": 79,
   "metadata": {},
   "outputs": [],
   "source": [
    "from sklearn.datasets import load_iris\n",
    "import xgboost as xgb\n",
    "from xgboost import plot_importance\n",
    "from matplotlib import pyplot as plt\n",
    "from sklearn.model_selection import train_test_split\n",
    "\n",
    "# read in the iris data\n",
    "iris = load_iris()\n",
    "\n",
    "X = iris.data\n",
    "y = iris.target"
   ]
  },
  {
   "cell_type": "code",
   "execution_count": 80,
   "metadata": {},
   "outputs": [],
   "source": [
    "X = file.iloc[:, :-1]"
   ]
  },
  {
   "cell_type": "code",
   "execution_count": 81,
   "metadata": {},
   "outputs": [],
   "source": [
    "y = file.iloc[:, -1]"
   ]
  },
  {
   "cell_type": "code",
   "execution_count": 82,
   "metadata": {},
   "outputs": [
    {
     "data": {
      "text/plain": [
       "559494"
      ]
     },
     "execution_count": 82,
     "metadata": {},
     "output_type": "execute_result"
    }
   ],
   "source": [
    "len(X.columns)"
   ]
  },
  {
   "cell_type": "code",
   "execution_count": 83,
   "metadata": {},
   "outputs": [],
   "source": [
    "X_train, X_test, y_train, y_test = train_test_split(X, y, test_size=0.2, random_state=1234565)\n",
    "\n",
    "params = {\n",
    "    'booster': 'gbtree',\n",
    "    'objective': 'multi:softmax',\n",
    "    'num_class': 17,\n",
    "    'gamma': 0.1,\n",
    "    'max_depth': 6,\n",
    "    'lambda': 2,\n",
    "    'subsample': 0.7,\n",
    "    'colsample_bytree': 0.7,\n",
    "    'min_child_weight': 3,\n",
    "    'silent': 1,\n",
    "    'eta': 0.1,\n",
    "    'seed': 1000,\n",
    "    'nthread': 4,\n",
    "}\n",
    "\n",
    "plst = params.items()"
   ]
  },
  {
   "cell_type": "code",
   "execution_count": 84,
   "metadata": {},
   "outputs": [],
   "source": [
    "dtrain = xgb.DMatrix(X_train, y_train)\n",
    "num_rounds = 500\n",
    "model = xgb.train(plst, dtrain, num_rounds)\n",
    "\n",
    "# 对测试集进行预测\n",
    "dtest = xgb.DMatrix(X_test)\n",
    "ans = model.predict(dtest)"
   ]
  },
  {
   "cell_type": "code",
   "execution_count": 85,
   "metadata": {},
   "outputs": [
    {
     "data": {
      "text/plain": [
       "array([ 1., 16.,  1., 16.,  1.,  8.,  1.,  1.,  1.,  8.,  1.,  1.,  1.,\n",
       "        1.,  1., 16.,  1.,  1., 16.,  8.,  1., 16.], dtype=float32)"
      ]
     },
     "execution_count": 85,
     "metadata": {},
     "output_type": "execute_result"
    }
   ],
   "source": [
    "ans"
   ]
  },
  {
   "cell_type": "code",
   "execution_count": 86,
   "metadata": {},
   "outputs": [],
   "source": [
    "temp = xgb.DMatrix(X)"
   ]
  },
  {
   "cell_type": "code",
   "execution_count": 87,
   "metadata": {},
   "outputs": [],
   "source": [
    "ans_tmp = model.predict(temp)\n",
    "np.save('kmer_predict_result.npy', ans_tmp)"
   ]
  },
  {
   "cell_type": "code",
   "execution_count": 88,
   "metadata": {},
   "outputs": [],
   "source": [
    "import pickle"
   ]
  },
  {
   "cell_type": "code",
   "execution_count": 89,
   "metadata": {},
   "outputs": [],
   "source": [
    "pickle.dump(model, open('kmer_model.pickle.dat', \"wb\"))"
   ]
  },
  {
   "cell_type": "code",
   "execution_count": 95,
   "metadata": {},
   "outputs": [],
   "source": [
    "tmp_model = pickle.load(open('gene_model.pickle.dat', \"rb\"))"
   ]
  },
  {
   "cell_type": "code",
   "execution_count": 94,
   "metadata": {},
   "outputs": [],
   "source": [
    "file['kmer_predict_result'] = tmp_model.predict(temp)"
   ]
  },
  {
   "cell_type": "code",
   "execution_count": 97,
   "metadata": {},
   "outputs": [],
   "source": [
    "file['snp_predict_result'] = np.load('gene_predict_result.npy')"
   ]
  },
  {
   "cell_type": "code",
   "execution_count": 99,
   "metadata": {},
   "outputs": [
    {
     "data": {
      "text/html": [
       "<div>\n",
       "<style scoped>\n",
       "    .dataframe tbody tr th:only-of-type {\n",
       "        vertical-align: middle;\n",
       "    }\n",
       "\n",
       "    .dataframe tbody tr th {\n",
       "        vertical-align: top;\n",
       "    }\n",
       "\n",
       "    .dataframe thead th {\n",
       "        text-align: right;\n",
       "    }\n",
       "</style>\n",
       "<table border=\"1\" class=\"dataframe\">\n",
       "  <thead>\n",
       "    <tr style=\"text-align: right;\">\n",
       "      <th></th>\n",
       "      <th>AAAAAA</th>\n",
       "      <th>AAAAAC</th>\n",
       "      <th>AAAAAG</th>\n",
       "      <th>AAAAAT</th>\n",
       "      <th>AAAACA</th>\n",
       "      <th>AAAACC</th>\n",
       "      <th>AAAACG</th>\n",
       "      <th>AAAACT</th>\n",
       "      <th>AAAAGA</th>\n",
       "      <th>AAAAGC</th>\n",
       "      <th>...</th>\n",
       "      <th>TTTTATAAAA</th>\n",
       "      <th>TTTTCAAAAA</th>\n",
       "      <th>TTTTCCAAAA</th>\n",
       "      <th>TTTTCGAAAA</th>\n",
       "      <th>TTTTGAAAAA</th>\n",
       "      <th>TTTTGCAAAA</th>\n",
       "      <th>TTTTTAAAAA</th>\n",
       "      <th>MIC</th>\n",
       "      <th>kmer_predict_result</th>\n",
       "      <th>snp_predict_result</th>\n",
       "    </tr>\n",
       "  </thead>\n",
       "  <tbody>\n",
       "    <tr>\n",
       "      <th>SRR5385429</th>\n",
       "      <td>0.001121</td>\n",
       "      <td>0.000856</td>\n",
       "      <td>0.000896</td>\n",
       "      <td>0.000882</td>\n",
       "      <td>0.000568</td>\n",
       "      <td>0.000846</td>\n",
       "      <td>0.000789</td>\n",
       "      <td>0.000411</td>\n",
       "      <td>0.000502</td>\n",
       "      <td>0.000810</td>\n",
       "      <td>...</td>\n",
       "      <td>0.000002</td>\n",
       "      <td>0.000006</td>\n",
       "      <td>0.000001</td>\n",
       "      <td>0.000001</td>\n",
       "      <td>0.000006</td>\n",
       "      <td>0.000002</td>\n",
       "      <td>0.000003</td>\n",
       "      <td>1.0</td>\n",
       "      <td>1.0</td>\n",
       "      <td>1.0</td>\n",
       "    </tr>\n",
       "    <tr>\n",
       "      <th>SRR5385434</th>\n",
       "      <td>0.001135</td>\n",
       "      <td>0.000868</td>\n",
       "      <td>0.000899</td>\n",
       "      <td>0.000884</td>\n",
       "      <td>0.000570</td>\n",
       "      <td>0.000851</td>\n",
       "      <td>0.000791</td>\n",
       "      <td>0.000406</td>\n",
       "      <td>0.000503</td>\n",
       "      <td>0.000821</td>\n",
       "      <td>...</td>\n",
       "      <td>0.000002</td>\n",
       "      <td>0.000004</td>\n",
       "      <td>0.000001</td>\n",
       "      <td>0.000001</td>\n",
       "      <td>0.000005</td>\n",
       "      <td>0.000002</td>\n",
       "      <td>0.000002</td>\n",
       "      <td>8.0</td>\n",
       "      <td>8.0</td>\n",
       "      <td>8.0</td>\n",
       "    </tr>\n",
       "    <tr>\n",
       "      <th>SRR5385437</th>\n",
       "      <td>0.001127</td>\n",
       "      <td>0.000863</td>\n",
       "      <td>0.000891</td>\n",
       "      <td>0.000881</td>\n",
       "      <td>0.000568</td>\n",
       "      <td>0.000847</td>\n",
       "      <td>0.000783</td>\n",
       "      <td>0.000406</td>\n",
       "      <td>0.000499</td>\n",
       "      <td>0.000818</td>\n",
       "      <td>...</td>\n",
       "      <td>0.000002</td>\n",
       "      <td>0.000005</td>\n",
       "      <td>0.000001</td>\n",
       "      <td>0.000001</td>\n",
       "      <td>0.000005</td>\n",
       "      <td>0.000002</td>\n",
       "      <td>0.000002</td>\n",
       "      <td>8.0</td>\n",
       "      <td>8.0</td>\n",
       "      <td>8.0</td>\n",
       "    </tr>\n",
       "  </tbody>\n",
       "</table>\n",
       "<p>3 rows × 559497 columns</p>\n",
       "</div>"
      ],
      "text/plain": [
       "              AAAAAA    AAAAAC    AAAAAG    AAAAAT    AAAACA    AAAACC  \\\n",
       "SRR5385429  0.001121  0.000856  0.000896  0.000882  0.000568  0.000846   \n",
       "SRR5385434  0.001135  0.000868  0.000899  0.000884  0.000570  0.000851   \n",
       "SRR5385437  0.001127  0.000863  0.000891  0.000881  0.000568  0.000847   \n",
       "\n",
       "              AAAACG    AAAACT    AAAAGA    AAAAGC  ...  TTTTATAAAA  \\\n",
       "SRR5385429  0.000789  0.000411  0.000502  0.000810  ...    0.000002   \n",
       "SRR5385434  0.000791  0.000406  0.000503  0.000821  ...    0.000002   \n",
       "SRR5385437  0.000783  0.000406  0.000499  0.000818  ...    0.000002   \n",
       "\n",
       "            TTTTCAAAAA  TTTTCCAAAA  TTTTCGAAAA  TTTTGAAAAA  TTTTGCAAAA  \\\n",
       "SRR5385429    0.000006    0.000001    0.000001    0.000006    0.000002   \n",
       "SRR5385434    0.000004    0.000001    0.000001    0.000005    0.000002   \n",
       "SRR5385437    0.000005    0.000001    0.000001    0.000005    0.000002   \n",
       "\n",
       "            TTTTTAAAAA  MIC  kmer_predict_result  snp_predict_result  \n",
       "SRR5385429    0.000003  1.0                  1.0                 1.0  \n",
       "SRR5385434    0.000002  8.0                  8.0                 8.0  \n",
       "SRR5385437    0.000002  8.0                  8.0                 8.0  \n",
       "\n",
       "[3 rows x 559497 columns]"
      ]
     },
     "execution_count": 99,
     "metadata": {},
     "output_type": "execute_result"
    }
   ],
   "source": [
    "file.head(3)"
   ]
  },
  {
   "cell_type": "code",
   "execution_count": 107,
   "metadata": {},
   "outputs": [],
   "source": [
    "sum_predict_result = file.iloc[:, -3:]"
   ]
  },
  {
   "cell_type": "code",
   "execution_count": 110,
   "metadata": {},
   "outputs": [],
   "source": [
    "sum_predict_result.to_csv('predict_result_sum.csv')"
   ]
  },
  {
   "cell_type": "code",
   "execution_count": null,
   "metadata": {},
   "outputs": [],
   "source": []
  },
  {
   "cell_type": "code",
   "execution_count": null,
   "metadata": {},
   "outputs": [],
   "source": []
  },
  {
   "cell_type": "code",
   "execution_count": 15,
   "metadata": {},
   "outputs": [
    {
     "name": "stdout",
     "output_type": "stream",
     "text": [
      "Accuracy: 77.27 % \n"
     ]
    },
    {
     "data": {
      "image/png": "[encoded data removed]",
      "text/plain": [
       "<Figure size 432x288 with 1 Axes>"
      ]
     },
     "metadata": {
      "needs_background": "light"
     },
     "output_type": "display_data"
    }
   ],
   "source": [
    "# 计算准确率\n",
    "cnt1 = 0\n",
    "cnt2 = 0\n",
    "for i in range(len(y_test)):\n",
    "    if ans[i] == y_test[i]:\n",
    "        cnt1 += 1\n",
    "    else:\n",
    "        cnt2 += 1\n",
    "\n",
    "print(\"Accuracy: %.2f %% \" % (100 * cnt1 / (cnt1 + cnt2)))\n",
    "\n",
    "# 显示重要特征\n",
    "plot_importance(model)\n",
    "plt.show()"
   ]
  },
  {
   "cell_type": "code",
   "execution_count": 16,
   "metadata": {},
   "outputs": [],
   "source": [
    "data2 = sorted(model.get_score().items(), key = lambda item:item[1], reverse = True)"
   ]
  },
  {
   "cell_type": "code",
   "execution_count": 17,
   "metadata": {},
   "outputs": [],
   "source": [
    "np.save('snp_feat.npy', data2)"
   ]
  },
  {
   "cell_type": "code",
   "execution_count": null,
   "metadata": {},
   "outputs": [],
   "source": []
  },
  {
   "cell_type": "code",
   "execution_count": null,
   "metadata": {},
   "outputs": [],
   "source": []
  },
  {
   "cell_type": "markdown",
   "metadata": {},
   "source": [
    "## top20 feature"
   ]
  },
  {
   "cell_type": "code",
   "execution_count": 119,
   "metadata": {},
   "outputs": [],
   "source": [
    "import numpy as np\n",
    "import pandas as pd\n",
    "data1 = np.load('Pin_Lv6_8_10_kmrs_feat.npy')\n",
    "data2 = np.load('snp_feat.npy')\n",
    "# pd.DataFrame(columns = ['kmer', 'f-score'], data=data2).to_csv('snp_feat.csv', index=None)"
   ]
  },
  {
   "cell_type": "code",
   "execution_count": 120,
   "metadata": {},
   "outputs": [
    {
     "data": {
      "text/plain": [
       "array([['AACGTGCACC', '5'],\n",
       "       ['CACGAAGCAC', '3'],\n",
       "       ['ATAGTTTGGC', '3'],\n",
       "       ['ATTTAGGCTA', '3'],\n",
       "       ['CGGAATTTTC', '2'],\n",
       "       ['ATCCCTCGAG', '2'],\n",
       "       ['AAGACCCATC', '2'],\n",
       "       ['CAAGGTGTGG', '2'],\n",
       "       ['CAACAAGTCG', '2'],\n",
       "       ['ACAAGGTGCA', '2'],\n",
       "       ['GAAAGAACTC', '2'],\n",
       "       ['CAGGCTCCTA', '2'],\n",
       "       ['ACTTAGCG', '2'],\n",
       "       ['CTATTGGCCC', '2'],\n",
       "       ['AGAGCGCTCA', '2'],\n",
       "       ['CGACAGTCTC', '2'],\n",
       "       ['AAAAAG', '1'],\n",
       "       ['ACACAC', '1'],\n",
       "       ['AAAACC', '1'],\n",
       "       ['ACAAGTTCCA', '1']], dtype='<U10')"
      ]
     },
     "execution_count": 120,
     "metadata": {},
     "output_type": "execute_result"
    }
   ],
   "source": [
    "data2[:20]"
   ]
  },
  {
   "cell_type": "code",
   "execution_count": 114,
   "metadata": {},
   "outputs": [],
   "source": [
    "top20_snp_feat = data2[:20]"
   ]
  },
  {
   "cell_type": "code",
   "execution_count": 121,
   "metadata": {},
   "outputs": [],
   "source": [
    "top20_kmer_feat = data1[:20]"
   ]
  },
  {
   "cell_type": "code",
   "execution_count": 123,
   "metadata": {},
   "outputs": [],
   "source": [
    "np.save('top20_feat.npy', np.r_[top20_snp_feat, top20_kmer_feat])    ## "
   ]
  }
 ],
 "metadata": {
  "kernelspec": {
   "display_name": "Python 3",
   "language": "python",
   "name": "python3"
  },
  "language_info": {
   "codemirror_mode": {
    "name": "ipython",
    "version": 3
   },
   "file_extension": ".py",
   "mimetype": "text/x-python",
   "name": "python",
   "nbconvert_exporter": "python",
   "pygments_lexer": "ipython3",
   "version": "3.7.2"
  }
 },
 "nbformat": 4,
 "nbformat_minor": 4
}
