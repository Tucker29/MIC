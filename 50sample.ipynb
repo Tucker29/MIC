{
 "cells": [
  {
   "cell_type": "code",
   "execution_count": 1,
   "metadata": {},
   "outputs": [],
   "source": [
    "import numpy as np\n",
    "import pandas as pd\n"
   ]
  },
  {
   "cell_type": "code",
   "execution_count": 16,
   "metadata": {},
   "outputs": [],
   "source": [
    "file = pd.read_csv('8kmer_MIC_table.csv', header=0, index_col=0)"
   ]
  },
  {
   "cell_type": "code",
   "execution_count": 17,
   "metadata": {},
   "outputs": [
    {
     "data": {
      "text/html": [
       "<div>\n",
       "<style>\n",
       "    .dataframe thead tr:only-child th {\n",
       "        text-align: right;\n",
       "    }\n",
       "\n",
       "    .dataframe thead th {\n",
       "        text-align: left;\n",
       "    }\n",
       "\n",
       "    .dataframe tbody tr th {\n",
       "        vertical-align: top;\n",
       "    }\n",
       "</style>\n",
       "<table border=\"1\" class=\"dataframe\">\n",
       "  <thead>\n",
       "    <tr style=\"text-align: right;\">\n",
       "      <th></th>\n",
       "      <th>AAAAAAAA</th>\n",
       "      <th>AAAAAAAC</th>\n",
       "      <th>AAAAAAAG</th>\n",
       "      <th>AAAAAAAT</th>\n",
       "      <th>AAAAAACA</th>\n",
       "      <th>AAAAAACC</th>\n",
       "      <th>AAAAAACG</th>\n",
       "      <th>AAAAAACT</th>\n",
       "      <th>AAAAAAGA</th>\n",
       "      <th>AAAAAAGC</th>\n",
       "      <th>...</th>\n",
       "      <th>TTTACAAA</th>\n",
       "      <th>TTTAGAAA</th>\n",
       "      <th>TTTATAAA</th>\n",
       "      <th>TTTCAAAA</th>\n",
       "      <th>TTTCCAAA</th>\n",
       "      <th>TTTCGAAA</th>\n",
       "      <th>TTTGAAAA</th>\n",
       "      <th>TTTGCAAA</th>\n",
       "      <th>TTTTAAAA</th>\n",
       "      <th>MIC</th>\n",
       "    </tr>\n",
       "    <tr>\n",
       "      <th>1</th>\n",
       "      <th></th>\n",
       "      <th></th>\n",
       "      <th></th>\n",
       "      <th></th>\n",
       "      <th></th>\n",
       "      <th></th>\n",
       "      <th></th>\n",
       "      <th></th>\n",
       "      <th></th>\n",
       "      <th></th>\n",
       "      <th></th>\n",
       "      <th></th>\n",
       "      <th></th>\n",
       "      <th></th>\n",
       "      <th></th>\n",
       "      <th></th>\n",
       "      <th></th>\n",
       "      <th></th>\n",
       "      <th></th>\n",
       "      <th></th>\n",
       "      <th></th>\n",
       "    </tr>\n",
       "  </thead>\n",
       "  <tbody>\n",
       "    <tr>\n",
       "      <th>SRR5385429</th>\n",
       "      <td>368.0</td>\n",
       "      <td>393.0</td>\n",
       "      <td>382.0</td>\n",
       "      <td>470.0</td>\n",
       "      <td>350.0</td>\n",
       "      <td>424.0</td>\n",
       "      <td>380.0</td>\n",
       "      <td>227.0</td>\n",
       "      <td>371.0</td>\n",
       "      <td>619.0</td>\n",
       "      <td>...</td>\n",
       "      <td>99.0</td>\n",
       "      <td>49.0</td>\n",
       "      <td>84.0</td>\n",
       "      <td>224.0</td>\n",
       "      <td>52.0</td>\n",
       "      <td>64.0</td>\n",
       "      <td>277.0</td>\n",
       "      <td>69.0</td>\n",
       "      <td>101.0</td>\n",
       "      <td>1.0</td>\n",
       "    </tr>\n",
       "    <tr>\n",
       "      <th>SRR5385434</th>\n",
       "      <td>321.0</td>\n",
       "      <td>426.0</td>\n",
       "      <td>372.0</td>\n",
       "      <td>441.0</td>\n",
       "      <td>381.0</td>\n",
       "      <td>423.0</td>\n",
       "      <td>385.0</td>\n",
       "      <td>239.0</td>\n",
       "      <td>379.0</td>\n",
       "      <td>618.0</td>\n",
       "      <td>...</td>\n",
       "      <td>105.0</td>\n",
       "      <td>56.0</td>\n",
       "      <td>99.0</td>\n",
       "      <td>192.0</td>\n",
       "      <td>62.0</td>\n",
       "      <td>64.0</td>\n",
       "      <td>248.0</td>\n",
       "      <td>72.0</td>\n",
       "      <td>108.0</td>\n",
       "      <td>8.0</td>\n",
       "    </tr>\n",
       "    <tr>\n",
       "      <th>SRR5385437</th>\n",
       "      <td>317.0</td>\n",
       "      <td>425.0</td>\n",
       "      <td>374.0</td>\n",
       "      <td>445.0</td>\n",
       "      <td>392.0</td>\n",
       "      <td>427.0</td>\n",
       "      <td>387.0</td>\n",
       "      <td>239.0</td>\n",
       "      <td>382.0</td>\n",
       "      <td>629.0</td>\n",
       "      <td>...</td>\n",
       "      <td>110.0</td>\n",
       "      <td>56.0</td>\n",
       "      <td>99.0</td>\n",
       "      <td>196.0</td>\n",
       "      <td>59.0</td>\n",
       "      <td>64.0</td>\n",
       "      <td>256.0</td>\n",
       "      <td>73.0</td>\n",
       "      <td>107.0</td>\n",
       "      <td>8.0</td>\n",
       "    </tr>\n",
       "  </tbody>\n",
       "</table>\n",
       "<p>3 rows × 32897 columns</p>\n",
       "</div>"
      ],
      "text/plain": [
       "            AAAAAAAA  AAAAAAAC  AAAAAAAG  AAAAAAAT  AAAAAACA  AAAAAACC  \\\n",
       "1                                                                        \n",
       "SRR5385429     368.0     393.0     382.0     470.0     350.0     424.0   \n",
       "SRR5385434     321.0     426.0     372.0     441.0     381.0     423.0   \n",
       "SRR5385437     317.0     425.0     374.0     445.0     392.0     427.0   \n",
       "\n",
       "            AAAAAACG  AAAAAACT  AAAAAAGA  AAAAAAGC ...   TTTACAAA  TTTAGAAA  \\\n",
       "1                                                  ...                        \n",
       "SRR5385429     380.0     227.0     371.0     619.0 ...       99.0      49.0   \n",
       "SRR5385434     385.0     239.0     379.0     618.0 ...      105.0      56.0   \n",
       "SRR5385437     387.0     239.0     382.0     629.0 ...      110.0      56.0   \n",
       "\n",
       "            TTTATAAA  TTTCAAAA  TTTCCAAA  TTTCGAAA  TTTGAAAA  TTTGCAAA  \\\n",
       "1                                                                        \n",
       "SRR5385429      84.0     224.0      52.0      64.0     277.0      69.0   \n",
       "SRR5385434      99.0     192.0      62.0      64.0     248.0      72.0   \n",
       "SRR5385437      99.0     196.0      59.0      64.0     256.0      73.0   \n",
       "\n",
       "            TTTTAAAA  MIC  \n",
       "1                          \n",
       "SRR5385429     101.0  1.0  \n",
       "SRR5385434     108.0  8.0  \n",
       "SRR5385437     107.0  8.0  \n",
       "\n",
       "[3 rows x 32897 columns]"
      ]
     },
     "execution_count": 17,
     "metadata": {},
     "output_type": "execute_result"
    }
   ],
   "source": [
    "file.head(3)"
   ]
  },
  {
   "cell_type": "code",
   "execution_count": 19,
   "metadata": {
    "jupyter": {
     "source_hidden": true
    }
   },
   "outputs": [],
   "source": [
    "import random"
   ]
  },
  {
   "cell_type": "code",
   "execution_count": 29,
   "metadata": {},
   "outputs": [],
   "source": [
    "idx1 = random.sample(set(file[file['MIC']==1].index), k=27)"
   ]
  },
  {
   "cell_type": "code",
   "execution_count": 30,
   "metadata": {},
   "outputs": [],
   "source": [
    "idx2 = random.sample(set(file[file['MIC']==2].index), k=4)"
   ]
  },
  {
   "cell_type": "code",
   "execution_count": 31,
   "metadata": {},
   "outputs": [],
   "source": [
    "idx8 = random.sample(set(file[file['MIC']==8].index), k=10)"
   ]
  },
  {
   "cell_type": "code",
   "execution_count": 32,
   "metadata": {},
   "outputs": [],
   "source": [
    "idx16 = random.sample(set(file[file['MIC']==16].index), k=5)"
   ]
  },
  {
   "cell_type": "code",
   "execution_count": 86,
   "metadata": {},
   "outputs": [],
   "source": [
    "idx025 = file[file['MIC']==0.25].index"
   ]
  },
  {
   "cell_type": "code",
   "execution_count": 87,
   "metadata": {},
   "outputs": [],
   "source": [
    "idx05 = file[file['MIC']==0.5].index"
   ]
  },
  {
   "cell_type": "code",
   "execution_count": 61,
   "metadata": {},
   "outputs": [],
   "source": [
    "idx4 = file[file['MIC']==4].index"
   ]
  },
  {
   "cell_type": "code",
   "execution_count": 77,
   "metadata": {},
   "outputs": [
    {
     "data": {
      "text/plain": [
       "['SRR5386775', 'SRR5387229']"
      ]
     },
     "execution_count": 77,
     "metadata": {},
     "output_type": "execute_result"
    }
   ],
   "source": [
    "list(idx4.values)"
   ]
  },
  {
   "cell_type": "code",
   "execution_count": 88,
   "metadata": {},
   "outputs": [],
   "source": [
    "idx50 =idx1 + idx2 + idx8 + idx16 + list(idx4.values) + list(idx05) + list(idx025)"
   ]
  },
  {
   "cell_type": "code",
   "execution_count": 89,
   "metadata": {},
   "outputs": [
    {
     "data": {
      "text/plain": [
       "50"
      ]
     },
     "execution_count": 89,
     "metadata": {},
     "output_type": "execute_result"
    }
   ],
   "source": [
    "len(idx50)"
   ]
  },
  {
   "cell_type": "code",
   "execution_count": 90,
   "metadata": {},
   "outputs": [
    {
     "name": "stdout",
     "output_type": "stream",
     "text": [
      "['SRR5386041', 'SRR5386324', 'SRR5386417', 'SRR5386794', 'SRR5386673', 'SRR5386974', 'SRR5386086', 'SRR5386495', 'SRR5386104', 'SRR5386027', 'SRR5386240', 'SRR5386635', 'SRR5385795', 'SRR5385697', 'SRR5386091', 'SRR5386262', 'SRR5386226', 'SRR5386953', 'SRR5386199', 'SRR5386370', 'SRR5386306', 'SRR5385632', 'SRR5387399', 'SRR5386644', 'SRR5386853', 'SRR5386812', 'SRR5386291', 'SRR5385726', 'SRR5386120', 'SRR5385982', 'SRR5386165', 'SRR5385437', 'SRR5385462', 'SRR5386243', 'SRR5387255', 'SRR5386289', 'SRR5386035', 'SRR5386354', 'SRR5386185', 'SRR5386286', 'SRR5386954', 'SRR5387360', 'SRR5387305', 'SRR5385917', 'SRR5385747', 'SRR5385659', 'SRR5386775', 'SRR5387229', 'SRR5387285', 'SRR5387288']"
     ]
    }
   ],
   "source": [
    "print(idx50, end='')"
   ]
  },
  {
   "cell_type": "code",
   "execution_count": 91,
   "metadata": {},
   "outputs": [
    {
     "data": {
      "text/plain": [
       "50"
      ]
     },
     "execution_count": 91,
     "metadata": {},
     "output_type": "execute_result"
    }
   ],
   "source": [
    "len(set(file.loc[idx50, :].index))"
   ]
  },
  {
   "cell_type": "code",
   "execution_count": 92,
   "metadata": {},
   "outputs": [],
   "source": [
    "np.save('idx50.npy', idx50)"
   ]
  },
  {
   "cell_type": "code",
   "execution_count": null,
   "metadata": {},
   "outputs": [],
   "source": []
  }
 ],
 "metadata": {
  "kernelspec": {
   "display_name": "Python 3",
   "language": "python",
   "name": "python3"
  },
  "language_info": {
   "codemirror_mode": {
    "name": "ipython",
    "version": 3
   },
   "file_extension": ".py",
   "mimetype": "text/x-python",
   "name": "python",
   "nbconvert_exporter": "python",
   "pygments_lexer": "ipython3",
   "version": "3.7.2"
  }
 },
 "nbformat": 4,
 "nbformat_minor": 4
}
