{
 "cells": [
  {
   "cell_type": "code",
   "execution_count": 2,
   "metadata": {},
   "outputs": [],
   "source": [
    "import numpy as np\n",
    "import pandas as pd"
   ]
  },
  {
   "cell_type": "code",
   "execution_count": 3,
   "metadata": {},
   "outputs": [],
   "source": [
    "file = pd.read_csv(\"6_8_10kmer_MIC_table.csv\", index_col = 0)"
   ]
  },
  {
   "cell_type": "code",
   "execution_count": 4,
   "metadata": {},
   "outputs": [],
   "source": [
    "#file['MIC'].value_counts().to_csv('MIC_value_counts.csv')"
   ]
  },
  {
   "cell_type": "code",
   "execution_count": 5,
   "metadata": {},
   "outputs": [],
   "source": [
    "idx50 = np.load('idx50.npy')\n",
    "file = file.loc[idx50, :]"
   ]
  },
  {
   "cell_type": "code",
   "execution_count": 6,
   "metadata": {},
   "outputs": [
    {
     "data": {
      "text/plain": [
       "50"
      ]
     },
     "execution_count": 6,
     "metadata": {},
     "output_type": "execute_result"
    }
   ],
   "source": [
    "len(set(file.loc[idx50, :].index))"
   ]
  },
  {
   "cell_type": "code",
   "execution_count": 7,
   "metadata": {},
   "outputs": [],
   "source": [
    "from sklearn.datasets import load_iris\n",
    "import xgboost as xgb\n",
    "from xgboost import plot_importance\n",
    "from matplotlib import pyplot as plt\n",
    "from sklearn.model_selection import train_test_split\n",
    "\n",
    "# read in the iris data\n",
    "#iris = load_iris()\n",
    "\n",
    "#X = iris.data\n",
    "#y = iris.target"
   ]
  },
  {
   "cell_type": "code",
   "execution_count": null,
   "metadata": {},
   "outputs": [],
   "source": []
  },
  {
   "cell_type": "code",
   "execution_count": 8,
   "metadata": {},
   "outputs": [],
   "source": [
    "X = file.iloc[:, :-1]"
   ]
  },
  {
   "cell_type": "code",
   "execution_count": 9,
   "metadata": {},
   "outputs": [],
   "source": [
    "y = file.iloc[:, -1]"
   ]
  },
  {
   "cell_type": "code",
   "execution_count": 10,
   "metadata": {},
   "outputs": [
    {
     "data": {
      "text/plain": [
       "559494"
      ]
     },
     "execution_count": 10,
     "metadata": {},
     "output_type": "execute_result"
    }
   ],
   "source": [
    "len(X.columns)"
   ]
  },
  {
   "cell_type": "code",
   "execution_count": 11,
   "metadata": {},
   "outputs": [],
   "source": [
    "X_train, X_test, y_train, y_test = train_test_split(X, y, test_size=0.2, random_state=1234565)\n",
    "\n",
    "params = {\n",
    "    'booster': 'gbtree',\n",
    "    'objective': 'multi:softmax',\n",
    "    'num_class': 17,\n",
    "    'gamma': 0.1,\n",
    "    'max_depth': 6,\n",
    "    'lambda': 2,\n",
    "    'subsample': 0.7,\n",
    "    'colsample_bytree': 0.7,\n",
    "    'min_child_weight': 3,\n",
    "    'silent': 1,\n",
    "    'eta': 0.1,\n",
    "    'seed': 1000,\n",
    "    'nthread': 4,\n",
    "}\n",
    "\n",
    "plst = params.items()"
   ]
  },
  {
   "cell_type": "code",
   "execution_count": 12,
   "metadata": {},
   "outputs": [
    {
     "data": {
      "text/plain": [
       "1\n",
       "SRR5387288     0.25\n",
       "SRR5386240     1.00\n",
       "SRR5386495     1.00\n",
       "SRR5386812     1.00\n",
       "SRR5386853     1.00\n",
       "SRR5386243     8.00\n",
       "SRR5386041     1.00\n",
       "SRR5385437     8.00\n",
       "SRR5385747    16.00\n",
       "SRR5386794     1.00\n",
       "Name: MIC, dtype: float64"
      ]
     },
     "execution_count": 12,
     "metadata": {},
     "output_type": "execute_result"
    }
   ],
   "source": [
    "y_test"
   ]
  },
  {
   "cell_type": "code",
   "execution_count": 13,
   "metadata": {},
   "outputs": [],
   "source": [
    "dtrain = xgb.DMatrix(X_train, y_train)\n",
    "num_rounds = 500\n",
    "model = xgb.train(plst, dtrain, num_rounds)\n",
    "\n",
    "# 对测试集进行预测\n",
    "dtest = xgb.DMatrix(X_test)\n",
    "ans = model.predict(dtest)"
   ]
  },
  {
   "cell_type": "code",
   "execution_count": 14,
   "metadata": {},
   "outputs": [
    {
     "data": {
      "text/plain": [
       "array([ 8.,  1.,  1.,  1.,  1.,  8.,  1.,  8., 16.,  1.], dtype=float32)"
      ]
     },
     "execution_count": 14,
     "metadata": {},
     "output_type": "execute_result"
    }
   ],
   "source": [
    "ans"
   ]
  },
  {
   "cell_type": "code",
   "execution_count": 26,
   "metadata": {},
   "outputs": [
    {
     "data": {
      "text/plain": [
       "Index(['SRR5386041', 'SRR5386324', 'SRR5386417', 'SRR5386794', 'SRR5386673',\n",
       "       'SRR5386974', 'SRR5386086', 'SRR5386495', 'SRR5386104', 'SRR5386027',\n",
       "       'SRR5386240', 'SRR5386635', 'SRR5385795', 'SRR5385697', 'SRR5386091',\n",
       "       'SRR5386262', 'SRR5386226', 'SRR5386953', 'SRR5386199', 'SRR5386370',\n",
       "       'SRR5386306', 'SRR5385632', 'SRR5387399', 'SRR5386644', 'SRR5386853',\n",
       "       'SRR5386812', 'SRR5386291', 'SRR5385726', 'SRR5386120', 'SRR5385982',\n",
       "       'SRR5386165', 'SRR5385437', 'SRR5385462', 'SRR5386243', 'SRR5387255',\n",
       "       'SRR5386289', 'SRR5386035', 'SRR5386354', 'SRR5386185', 'SRR5386286',\n",
       "       'SRR5386954', 'SRR5387360', 'SRR5387305', 'SRR5385917', 'SRR5385747',\n",
       "       'SRR5385659', 'SRR5386775', 'SRR5387229', 'SRR5387285', 'SRR5387288'],\n",
       "      dtype='object', name='1')"
      ]
     },
     "execution_count": 26,
     "metadata": {},
     "output_type": "execute_result"
    }
   ],
   "source": [
    "X.index"
   ]
  },
  {
   "cell_type": "code",
   "execution_count": 20,
   "metadata": {},
   "outputs": [],
   "source": [
    "X_train, X_test, y_train, y_test = train_test_split(X, y, test_size=0, random_state=1234565)"
   ]
  },
  {
   "cell_type": "code",
   "execution_count": 22,
   "metadata": {},
   "outputs": [
    {
     "data": {
      "text/plain": [
       "array([ 1.,  1.,  1.,  1.,  1.,  1.,  1.,  1.,  1.,  1.,  1.,  1.,  1.,\n",
       "        1.,  1.,  1.,  1.,  1.,  1.,  1.,  1.,  1.,  1.,  1.,  1.,  1.,\n",
       "        1.,  2.,  2.,  2.,  2.,  8.,  8.,  8.,  8.,  8.,  8.,  8.,  8.,\n",
       "        8.,  8., 16., 16., 16., 16., 16.,  2.,  2.,  1.,  8.],\n",
       "      dtype=float32)"
      ]
     },
     "execution_count": 22,
     "metadata": {},
     "output_type": "execute_result"
    }
   ],
   "source": [
    "X_train = xgb.DMatrix(X)\n",
    "model.predict(X_train)"
   ]
  },
  {
   "cell_type": "code",
   "execution_count": 13,
   "metadata": {
    "jupyter": {
     "source_hidden": true
    }
   },
   "outputs": [
    {
     "name": "stdout",
     "output_type": "stream",
     "text": [
      "Accuracy: 90.00 % \n"
     ]
    },
    {
     "data": {
      "image/png": "[encoded data removed]",
      "text/plain": [
       "<Figure size 432x288 with 1 Axes>"
      ]
     },
     "metadata": {
      "needs_background": "light"
     },
     "output_type": "display_data"
    }
   ],
   "source": [
    "# 计算准确率\n",
    "cnt1 = 0\n",
    "cnt2 = 0\n",
    "for i in range(len(y_test)):\n",
    "    if ans[i] == y_test[i]:\n",
    "        cnt1 += 1\n",
    "    else:\n",
    "        cnt2 += 1\n",
    "\n",
    "print(\"Accuracy: %.2f %% \" % (100 * cnt1 / (cnt1 + cnt2)))\n",
    "\n",
    "# 显示重要特征\n",
    "plot_importance(model)\n",
    "plt.show()"
   ]
  },
  {
   "cell_type": "code",
   "execution_count": 14,
   "metadata": {},
   "outputs": [],
   "source": [
    "data2 = sorted(model.get_score().items(), key = lambda item:item[1], reverse = True)"
   ]
  },
  {
   "cell_type": "code",
   "execution_count": 15,
   "metadata": {},
   "outputs": [],
   "source": [
    "#np.save('6_8_10_kmrs_feat.npy', data2)"
   ]
  },
  {
   "cell_type": "code",
   "execution_count": 16,
   "metadata": {},
   "outputs": [],
   "source": [
    "np.save('50sample.npy', data2)"
   ]
  },
  {
   "cell_type": "code",
   "execution_count": 17,
   "metadata": {},
   "outputs": [],
   "source": [
    "import numpy as np\n",
    "import pandas as pd\n",
    "data2 = np.load('50sample.npy')\n",
    "pd.DataFrame(columns = ['kmer', 'f-score'], data=data2).to_csv('50sample.csv', index=None)"
   ]
  },
  {
   "cell_type": "code",
   "execution_count": 18,
   "metadata": {},
   "outputs": [
    {
     "data": {
      "text/plain": [
       "array([['CGACAGTCTC', '5'],\n",
       "       ['AACAGGCC', '4'],\n",
       "       ['AACAAGGATG', '3'],\n",
       "       ['GAAAGCTTAC', '3'],\n",
       "       ['ATAGTTTGGC', '3'],\n",
       "       ['CTAGGCCC', '2'],\n",
       "       ['AAAGCACT', '2'],\n",
       "       ['ACGGCC', '2'],\n",
       "       ['ACAAGGACAC', '1'],\n",
       "       ['ATTCGTCCAA', '1'],\n",
       "       ['AACTGTGG', '1'],\n",
       "       ['GCTCGGAC', '1'],\n",
       "       ['CTCACTTCAA', '1'],\n",
       "       ['ACCCCCCC', '1'],\n",
       "       ['GCCTCCACGA', '1'],\n",
       "       ['AGGATGTGCC', '1'],\n",
       "       ['ATCACCGCAG', '1'],\n",
       "       ['CTATCGTCAG', '1'],\n",
       "       ['GCCTCCCTGA', '1'],\n",
       "       ['CCGTGCTC', '1'],\n",
       "       ['ATGTGG', '1'],\n",
       "       ['GATCGTTACC', '1'],\n",
       "       ['CCTCTGAGCC', '1'],\n",
       "       ['CATAGAATCC', '1'],\n",
       "       ['AGCCCCGCAA', '1'],\n",
       "       ['CCTTATGACC', '1'],\n",
       "       ['AGCCGC', '1'],\n",
       "       ['TCATAGATCA', '1'],\n",
       "       ['CCGTAGGACC', '1'],\n",
       "       ['GCACGCCCCC', '1'],\n",
       "       ['CGGTGGCCAG', '1'],\n",
       "       ['AATCTTTTCT', '1'],\n",
       "       ['CCCACAAA', '1'],\n",
       "       ['CCGGTGCCCC', '1'],\n",
       "       ['ATCCTTCGAG', '1'],\n",
       "       ['ACATCTGGAT', '1'],\n",
       "       ['CCGCTGAGCG', '1'],\n",
       "       ['CCCCGCCAAG', '1'],\n",
       "       ['GCCGTTCC', '1'],\n",
       "       ['GAAAAGCTGC', '1'],\n",
       "       ['TATATCAACA', '1'],\n",
       "       ['ATTATGTCGA', '1'],\n",
       "       ['CCATCTAACA', '1'],\n",
       "       ['CAGAGCCCAG', '1'],\n",
       "       ['AAAAGCCAGC', '1'],\n",
       "       ['TATTAACA', '1'],\n",
       "       ['CAAGTACGAG', '1'],\n",
       "       ['AAAAACAAAT', '1'],\n",
       "       ['CGCCTAACAA', '1'],\n",
       "       ['GAAACCAGTC', '1'],\n",
       "       ['CAGTGATAGG', '1'],\n",
       "       ['AGAAAGCTAC', '1'],\n",
       "       ['CCTAAACTCG', '1'],\n",
       "       ['AGGCCG', '1'],\n",
       "       ['AGGCACAT', '1'],\n",
       "       ['AATGCACTTC', '1'],\n",
       "       ['GTGCGCTTAA', '1'],\n",
       "       ['AGGATTCGTC', '1'],\n",
       "       ['CCCACCCCAG', '1'],\n",
       "       ['CCACGCTCAA', '1'],\n",
       "       ['CTTGGATGAC', '1'],\n",
       "       ['ACGGACCAGA', '1'],\n",
       "       ['ATCCGGCACA', '1'],\n",
       "       ['CCTCCCGTCG', '1'],\n",
       "       ['GCCCCGTGCC', '1'],\n",
       "       ['CGGACAGCTC', '1'],\n",
       "       ['GAAATGCGCC', '1'],\n",
       "       ['ATCTGAGGCG', '1'],\n",
       "       ['GCTTCAGGGA', '1'],\n",
       "       ['GCACCTACAC', '1'],\n",
       "       ['ACCACGGGAG', '1'],\n",
       "       ['ACCTTCCTTA', '1'],\n",
       "       ['GATTAGCCGC', '1'],\n",
       "       ['CGAAAGGGCG', '1'],\n",
       "       ['AGCGCATC', '1'],\n",
       "       ['AGTATTAAAT', '1'],\n",
       "       ['GGGCTA', '1'],\n",
       "       ['GGTGGTGAAA', '1'],\n",
       "       ['ACGCTCTG', '1'],\n",
       "       ['AATACAAG', '1'],\n",
       "       ['ACCTTGCAGC', '1'],\n",
       "       ['ACATCTCC', '1'],\n",
       "       ['CCTAAAATTA', '1'],\n",
       "       ['GTATCCTTGA', '1'],\n",
       "       ['AGCCGCTGAG', '1']], dtype='<U10')"
      ]
     },
     "execution_count": 18,
     "metadata": {},
     "output_type": "execute_result"
    }
   ],
   "source": [
    "data2"
   ]
  }
 ],
 "metadata": {
  "kernelspec": {
   "display_name": "Python 3",
   "language": "python",
   "name": "python3"
  },
  "language_info": {
   "codemirror_mode": {
    "name": "ipython",
    "version": 3
   },
   "file_extension": ".py",
   "mimetype": "text/x-python",
   "name": "python",
   "nbconvert_exporter": "python",
   "pygments_lexer": "ipython3",
   "version": "3.6.2"
  }
 },
 "nbformat": 4,
 "nbformat_minor": 4
}
